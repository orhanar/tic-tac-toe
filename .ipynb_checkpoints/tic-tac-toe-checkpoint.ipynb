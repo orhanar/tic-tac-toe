{
 "cells": [
  {
   "cell_type": "markdown",
   "metadata": {},
   "source": [
    "___\n",
    "\n",
    "<a href='https://www.udemy.com/user/joseportilla/'><img src='../Pierian_Data_Logo.png'/></a>\n",
    "___\n",
    "<center><em>Content Copyright by Pierian Data</em></center>"
   ]
  },
  {
   "cell_type": "markdown",
   "metadata": {},
   "source": [
    "# Milestone Project 1: Walkthrough Steps Workbook\n",
    "\n",
    "Below is a set of steps for you to follow to try to create the Tic Tac Toe Milestone Project game!"
   ]
  },
  {
   "cell_type": "markdown",
   "metadata": {},
   "source": [
    "#### Some suggested tools before you get started:\n",
    "To take input from a user:\n",
    "\n",
    "    player1 = input(\"Please pick a marker 'X' or 'O'\")\n",
    "    \n",
    "Note that input() takes in a string. If you need an integer value, use\n",
    "\n",
    "    position = int(input('Please enter a number'))\n",
    "    \n",
    "<br>To clear the screen between moves:\n",
    "\n",
    "    from IPython.display import clear_output\n",
    "    clear_output()\n",
    "    \n",
    "Note that clear_output() will only work in jupyter. To clear the screen in other IDEs, consider:\n",
    "\n",
    "    print('\\n'*100)\n",
    "    \n",
    "This scrolls the previous board up out of view. Now on to the program!"
   ]
  },
  {
   "cell_type": "markdown",
   "metadata": {},
   "source": [
    "**Step 1: Write a function that can print out a board. Set up your board as a list, where each index 1-9 corresponds with a number on a number pad, so you get a 3 by 3 board representation.**"
   ]
  },
  {
   "cell_type": "code",
   "execution_count": 1,
   "metadata": {},
   "outputs": [],
   "source": [
    "from IPython.display import clear_output\n",
    "\n",
    "test_board = [\"0\",\"1\",\"2\",\"3\",\"4\",\"5\",\"6\",\"7\",\"8\",\"9\"]\n",
    "\n",
    "def display_board(test_board):\n",
    "    counter = 0\n",
    "    for i in test_board:\n",
    "        if(counter == 0):\n",
    "            counter = counter + 1\n",
    "        elif(counter % 3 != 0):\n",
    "            print(test_board[counter],end = '')\n",
    "            print(\"|\",end = '')\n",
    "            counter = counter + 1  \n",
    "        elif(counter % 3 == 0):\n",
    "            print(test_board[counter])\n",
    "            counter = counter + 1 \n",
    "pass"
   ]
  },
  {
   "cell_type": "markdown",
   "metadata": {},
   "source": [
    "**TEST Step 1:** run your function on a test version of the board list, and make adjustments as necessary"
   ]
  },
  {
   "cell_type": "code",
   "execution_count": 2,
   "metadata": {},
   "outputs": [
    {
     "name": "stdout",
     "output_type": "stream",
     "text": [
      "1|2|3\n",
      "4|5|6\n",
      "7|8|9\n"
     ]
    }
   ],
   "source": [
    "display_board(test_board)"
   ]
  },
  {
   "cell_type": "markdown",
   "metadata": {},
   "source": [
    "**Step 2: Write a function that can take in a player input and assign their marker as 'X' or 'O'. Think about using *while* loops to continually ask until you get a correct answer.**"
   ]
  },
  {
   "cell_type": "code",
   "execution_count": 3,
   "metadata": {},
   "outputs": [],
   "source": [
    "def player_input():\n",
    "    player = \"\"\n",
    "    while(player != 'X' and player != 'O'):\n",
    "        player = input(\"Please pick a marker 'X' or 'O'\")\n",
    "    if(player == 'X' or player == 'O'):\n",
    "        return player\n",
    "    pass"
   ]
  },
  {
   "cell_type": "markdown",
   "metadata": {},
   "source": [
    "**TEST Step 2:** run the function to make sure it returns the desired output"
   ]
  },
  {
   "cell_type": "code",
   "execution_count": 4,
   "metadata": {},
   "outputs": [],
   "source": [
    "def place_marker(test_board, marker, position):\n",
    "    test_board[position] = marker\n",
    "    pass"
   ]
  },
  {
   "cell_type": "markdown",
   "metadata": {},
   "source": [
    "**TEST Step 3:** run the place marker function using test parameters and display the modified board"
   ]
  },
  {
   "cell_type": "code",
   "execution_count": null,
   "metadata": {},
   "outputs": [],
   "source": []
  },
  {
   "cell_type": "markdown",
   "metadata": {},
   "source": [
    "**Step 4: Write a function that takes in a board and a mark (X or O) and then checks to see if that mark has won. **"
   ]
  },
  {
   "cell_type": "code",
   "execution_count": 5,
   "metadata": {},
   "outputs": [],
   "source": [
    "def win_check(test_board, mark):\n",
    "    result = False\n",
    "    if(test_board[1] == mark and test_board[2] == mark and test_board[3] == mark):\n",
    "        result = True\n",
    "        print(mark + \" won\")\n",
    "    if(test_board[4] == mark and test_board[5] == mark and test_board[6] == mark):\n",
    "        result = True\n",
    "        print(mark + \" won\")\n",
    "    if(test_board[7] == mark and test_board[8] == mark and test_board[9] == mark):\n",
    "        result = True\n",
    "        print(mark + \" won\")\n",
    "    if(test_board[1] == mark and test_board[4] == mark and test_board[7] == mark):\n",
    "        result = True\n",
    "        print(mark + \" won\")\n",
    "    if(test_board[2] == mark and test_board[5] == mark and test_board[8] == mark):\n",
    "        result = True\n",
    "        print(mark + \" won\")\n",
    "    if(test_board[3] == mark and test_board[6] == mark and test_board[9] == mark):\n",
    "        result = True\n",
    "        print(mark + \" won\")\n",
    "    if(test_board[1] == mark and test_board[5] == mark and test_board[9] == mark):\n",
    "        result = True\n",
    "        print(mark + \" won\")\n",
    "    if(test_board[3] == mark and test_board[5] == mark and test_board[7] == mark):\n",
    "        result = True\n",
    "        print(mark + \" won\")\n",
    "        pass\n",
    "    return result"
   ]
  },
  {
   "cell_type": "markdown",
   "metadata": {},
   "source": [
    "**TEST Step 4:** run the win_check function against our test_board - it should return True"
   ]
  },
  {
   "cell_type": "code",
   "execution_count": null,
   "metadata": {},
   "outputs": [],
   "source": []
  },
  {
   "cell_type": "markdown",
   "metadata": {},
   "source": [
    "**Step 5: Write a function that uses the random module to randomly decide which player goes first. You may want to lookup random.randint() Return a string of which player went first.**"
   ]
  },
  {
   "cell_type": "code",
   "execution_count": 6,
   "metadata": {},
   "outputs": [],
   "source": [
    "import random\n",
    "\n",
    "def choose_first():\n",
    "    choice = random.randint(0, 1)\n",
    "    if(choice == 0):\n",
    "        return \"0\"\n",
    "    else:\n",
    "        return \"1\"\n",
    "    pass"
   ]
  },
  {
   "cell_type": "markdown",
   "metadata": {},
   "source": [
    "**Step 6: Write a function that returns a boolean indicating whether a space on the board is freely available.**"
   ]
  },
  {
   "cell_type": "code",
   "execution_count": 7,
   "metadata": {},
   "outputs": [],
   "source": [
    "def space_check(test_board, position):\n",
    "    if(position <= 9 and position >= 1):\n",
    "        if(test_board[position] != \"X\" and test_board[position] != \"O\"):\n",
    "            return True\n",
    "        else:\n",
    "            return False\n",
    "        pass"
   ]
  },
  {
   "cell_type": "markdown",
   "metadata": {},
   "source": [
    "**Step 7: Write a function that checks if the board is full and returns a boolean value. True if full, False otherwise.**"
   ]
  },
  {
   "cell_type": "code",
   "execution_count": 8,
   "metadata": {},
   "outputs": [],
   "source": [
    "def full_board_check(test_board):\n",
    "    counter = 0\n",
    "    for i in test_board:\n",
    "        if(i == \"X\" or i == \"O\"):\n",
    "            counter = counter + 1     \n",
    "    if(counter == 9):\n",
    "        return True\n",
    "    else:\n",
    "        return False\n",
    "pass         \n",
    "\n",
    "    "
   ]
  },
  {
   "cell_type": "markdown",
   "metadata": {},
   "source": [
    "**Step 8: Write a function that asks for a player's next position (as a number 1-9) and then uses the function from step 6 to check if it's a free position. If it is, then return the position for later use.**"
   ]
  },
  {
   "cell_type": "code",
   "execution_count": 9,
   "metadata": {},
   "outputs": [],
   "source": [
    "def player_choice(test_board):\n",
    "    player=\"\"\n",
    "    status = False\n",
    "    numbers = [1,2,3,4,5,6,7,8,9]\n",
    "    \n",
    "    while(status == False):\n",
    "        player = input(\"Please enter next position 1-9\")\n",
    "        try:\n",
    "            val = int(player)\n",
    "            if(val in numbers and space_check(test_board, val) == True):\n",
    "                status = True\n",
    "                return val\n",
    "        except ValueError:\n",
    "                status = False           \n",
    "    pass"
   ]
  },
  {
   "cell_type": "markdown",
   "metadata": {},
   "source": [
    "**Step 9: Write a function that asks the player if they want to play again and returns a boolean True if they do want to play again.**"
   ]
  },
  {
   "cell_type": "code",
   "execution_count": 10,
   "metadata": {},
   "outputs": [],
   "source": [
    "def replay():\n",
    "    player = input(\"Do you want to play again?\")\n",
    "    if(player == \"Yes\"):\n",
    "        return True\n",
    "    else:\n",
    "        return False\n",
    "    pass"
   ]
  },
  {
   "cell_type": "markdown",
   "metadata": {
    "collapsed": true
   },
   "source": [
    "**Step 10: Here comes the hard part! Use while loops and the functions you've made to run the game!**"
   ]
  },
  {
   "cell_type": "code",
   "execution_count": null,
   "metadata": {},
   "outputs": [
    {
     "name": "stdout",
     "output_type": "stream",
     "text": [
      "Do you want to play again?Yes\n",
      "2|3|3\n",
      "4|5|6\n",
      "7|8|9\n"
     ]
    }
   ],
   "source": [
    "from IPython.display import clear_output\n",
    "\n",
    "   \n",
    "player_no = \"\"\n",
    "choose_first()\n",
    "check = False\n",
    "full = False\n",
    "answer = \"\"\n",
    "if(choose_first() == \"0\"):\n",
    "     player_no = \"1\"\n",
    "else:\n",
    "     player_no = \"2\"\n",
    "        \n",
    "print('Welcome to Tic Tac Toe! ' + \"player \" + player_no + \" is starting 1 is X and 2 is O\")\n",
    "        \n",
    "while(check == False and full == False): \n",
    "    display_board(test_board)\n",
    "    a = player_choice(test_board)\n",
    "    b = player_input() \n",
    "    clear_output()\n",
    "    d = place_marker(test_board, b, a)\n",
    "    z = check = win_check(test_board, b)\n",
    "    full = full_board_check(test_board)\n",
    "    \n",
    "    if(check == True or full == True):\n",
    "    \n",
    "          answer = replay()\n",
    "          if(answer == True):\n",
    "            test_board = [\"0\",\"1\",\"2\",\"3\",\"4\",\"5\",\"6\",\"7\",\"8\",\"9\"]\n",
    "            check = False\n",
    "            full = False\n",
    "\n",
    "\n",
    "\n",
    "    \n",
    "\n",
    "   "
   ]
  },
  {
   "cell_type": "markdown",
   "metadata": {
    "collapsed": true
   },
   "source": [
    "## Good Job!"
   ]
  },
  {
   "cell_type": "code",
   "execution_count": null,
   "metadata": {},
   "outputs": [],
   "source": []
  },
  {
   "cell_type": "code",
   "execution_count": null,
   "metadata": {},
   "outputs": [],
   "source": []
  }
 ],
 "metadata": {
  "kernelspec": {
   "display_name": "Python 3",
   "language": "python",
   "name": "python3"
  },
  "language_info": {
   "codemirror_mode": {
    "name": "ipython",
    "version": 3
   },
   "file_extension": ".py",
   "mimetype": "text/x-python",
   "name": "python",
   "nbconvert_exporter": "python",
   "pygments_lexer": "ipython3",
   "version": "3.8.3"
  }
 },
 "nbformat": 4,
 "nbformat_minor": 1
}
